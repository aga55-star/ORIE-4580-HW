{
  "cells": [
    {
      "cell_type": "markdown",
      "metadata": {
        "id": "view-in-github",
        "colab_type": "text"
      },
      "source": [
        "<a href=\"https://colab.research.google.com/github/aga55-star/ORIE-4580-HW/blob/main/ORIE_4580_HW2.ipynb\" target=\"_parent\"><img src=\"https://colab.research.google.com/assets/colab-badge.svg\" alt=\"Open In Colab\"/></a>"
      ]
    },
    {
      "cell_type": "markdown",
      "metadata": {
        "id": "MxoFPTTof33v"
      },
      "source": [
        "# ORIE 4580/5580/5581 Assignment 2\n",
        "\n",
        "#### Students: A. Agarwal (aga55) and D. Fuentes (dwf64)"
      ]
    },
    {
      "cell_type": "markdown",
      "metadata": {
        "id": "54CO0k9tgKAJ"
      },
      "source": [
        "### Instructions\n",
        "\n",
        "\n",
        "* Due Thursday September 11, at 11.59pm on Gradescope.\n",
        "* Assignment .ipynb files available for download on [Canvas](https://canvas.cornell.edu/courses/80773#:~:text=Assignments-,Assignments,-Assignments%20module%20publish).\n",
        "* Do all your work in provided notebook (text answers typeset in markdown; show all required code and generate plots inline), and then generate and submit a pdf.\n",
        "* Ideally do assignments in groups of 2, and submit a single pdf with both names\n",
        "* Please show your work and clearly mark your answers.\n",
        "* You can use any code fragments given in class, found online (for example, on StackOverflow), or generated via Gemini/Claude/ChatGPT (you are encouraged to use these for first drafts) **with proper referencing**.\n",
        "* You can also discuss with others (again, please reference them if you do so); but you must write your final answers on your own as a team.\n",
        "\n",
        "\n",
        "\n",
        "### Suggested reading\n",
        "\n",
        "Chapters 4 and 6 of [Introduction to Probability](https://chance.dartmouth.edu/teaching_aids/books_articles/probability_book/book.html) by Grinstead and Snell. You can skip things that seem more advanced, like the Beta distribution in $Ch\\, 4$ and the part on queueing in $Ch\\,6$ - the part about paradoxes in probability is also strictly speaking not required$\\ldots$(but I would never recommend *not* reading that!)"
      ]
    },
    {
      "cell_type": "code",
      "execution_count": null,
      "metadata": {
        "id": "sNVb3XlKf33w"
      },
      "outputs": [],
      "source": [
        "#importing necessary packages\n",
        "import numpy as np\n",
        "import pandas as pd\n",
        "import matplotlib.pyplot as plt\n",
        "%matplotlib inline"
      ]
    },
    {
      "cell_type": "markdown",
      "metadata": {
        "id": "cGCcGZKXn7F_"
      },
      "source": [
        "\n",
        "---\n",
        "\n",
        "---\n",
        "\n",
        "## Question 1: Practice with expectation and variance (25 pts)\n",
        "\n",
        "\n",
        "\n",
        "---\n",
        "\n",
        "\n",
        "**(a)** Given a coin which comes up *Heads* with probability $p$, let $N_p$ denote the number of times the coin is tossed until the first *Heads*. Argue that $$N_p = \\begin{cases} 1 & \\text{with probability } p\\\\ 1+\\tilde{N}_p & \\text{with probability } 1-p \\end{cases}$$\n",
        "where $\\tilde{N}_p$ is an independent random variable with the same distribution as $N_p$.\n",
        "Using this, show that $\\mathbb{E}[N_p] = 1/p$. Also use a similar argument to find $Var(N_p)$.\n",
        "\n",
        "*Note: The rv $N_p$ is said to be a Geometric$(p)$ rv; it has pmf $p(k) = (1-p)^{k-1}p$.*\n",
        "\n",
        "\n",
        "\n",
        "---\n",
        "\n"
      ]
    },
    {
      "cell_type": "markdown",
      "metadata": {
        "id": "jtpKXrGeoqTV"
      },
      "source": [
        "### Ans.\n",
        "\n",
        "$$\n",
        "N_p =\n",
        "\\begin{cases}\n",
        "1, & \\text{with prob. } p, \\\\[6pt]\n",
        "1 + \\widetilde{N}_p, & \\text{with prob. } 1-p,\n",
        "\\end{cases}\n",
        "$$\n",
        "\n",
        "$$\n",
        "\\mathbb{E}[N_p] = p\\cdot 1 + (1-p)\\,\\mathbb{E}[1+\\widetilde N_p]\n",
        "= p + (1-p)\\bigl(1+\\mathbb{E}[N_p]\\bigr)\n",
        "= 1 + (1-p)\\mathbb{E}[N_p]\n",
        "$$\n",
        "\n",
        "$$\n",
        "\\mathbb{E}[N_p] - (1-p)\\mathbb{E}[N_p] = 1\n",
        "\\;\\Longrightarrow\\;\n",
        "p\\,\\mathbb{E}[N_p]=1\n",
        "\\;\\Longrightarrow\\;\n",
        "\\mathbb{E}[N_p]=\\tfrac{1}{p}\n",
        "$$\n",
        "\n",
        "$$\n",
        "\\mathbb{E}[N_p^2] = p + (1-p)(1+2\\mathbb{E}[N_p]+\\mathbb{E}[N_p^2])\n",
        "\\;\\;\\Longrightarrow\\;\\;\n",
        "\\mathbb{E}[N_p^2] = \\frac{1}{p} + \\frac{2(1-p)}{p^2}.\n",
        "$$\n",
        "\n",
        "$$\n",
        "\\operatorname{Var}(N_p) = \\mathbb{E}[N_p^2] - (\\mathbb{E}[N_p])^2\n",
        "= \\frac{1-p}{p^2}.\n",
        "$$\n"
      ]
    },
    {
      "cell_type": "markdown",
      "metadata": {
        "id": "UqZYCOzjMCat"
      },
      "source": [
        "___\n",
        "\n",
        "**(b)** In the previous assignment you estimated $\\pi$ by sampling uniform random points $(X,Y)$ in $[-1,1]\\times[-1,1]$, and checking if they fell within the circle. Suppose instead you sampled $n$ points uniformly in $[0,1]\\times[0,1]$ and checked if $X^2+Y^2\\leq 1$. Let $N_c$ be the number of points satisfying this; what is $\\mathbb{E}[N_c]$ and $\\text{Var}(N_c)$? Can you use this to get a better estimate of $\\pi$ (i.e., with tighter confidence intervals given the same number of samples $n$)?\n",
        "\n",
        "___"
      ]
    },
    {
      "cell_type": "markdown",
      "metadata": {
        "id": "WeZA2DkzNQcE"
      },
      "source": [
        "### Ans.\n",
        "\n",
        "$$\n",
        "p = \\mathbb{P}(X^2+Y^2 \\le 1)\n",
        "= \\frac{\\text{area of quarter unit circle}}{\\text{area of }[0,1]^2}\n",
        "= \\frac{\\pi}{4}.\n",
        "$$\n",
        "\n",
        "$$\n",
        "\\mathbb{E}[N_c] = n p = \\frac{n \\pi}{4},\n",
        "\\qquad\n",
        "\\operatorname{Var}(N_c) = n p (1-p)\n",
        "= n \\cdot \\frac{\\pi}{4}\\left(1 - \\frac{\\pi}{4}\\right).\n",
        "$$\n",
        "\n",
        "$$\n",
        "{\\pi^{hat}} := 4 \\frac{N_c}{n},\n",
        "\\qquad\n",
        "\\mathbb{E}[{\\pi^{hat}}] = \\pi,\n",
        "\\qquad\n",
        "\\operatorname{Var}({\\pi^{hat}})\n",
        "= \\operatorname{Var}\\!\\left(4 \\frac{N_c}{n}\\right)\n",
        "= \\frac{16}{n} p (1-p)\n",
        "= \\frac{4\\pi - \\pi^2}{n}.\n",
        "$$\n",
        "\n",
        "Same variance as the $[-1,1]^2$ method, so no tighter confidence intervals.\n"
      ]
    },
    {
      "cell_type": "markdown",
      "metadata": {
        "id": "U25Qyhy3pL0J"
      },
      "source": [
        "---\n",
        "**(c)** The elevators in Rhodes Hall stop at $6$ floors. Suppose one morning you get in on the ground floor with $3$ other people, and each one of you wants to go to a floor in $\\{2,3,4,5,6\\}$ chosen uniformly at random, and independently of the others' choices. At how many floors will the elevator stop on average?\n",
        "\n",
        "\n",
        "---"
      ]
    },
    {
      "cell_type": "markdown",
      "metadata": {
        "id": "KRd2JKsBpa2W"
      },
      "source": [
        "### Ans.\n",
        "\n",
        "$$\n",
        "S = \\text{number of distinct stops}.\n",
        "$$\n",
        "\n",
        "\n",
        "$$\n",
        "S = \\sum_{f=2}^6 \\mathbf{1}\\{\\text{someone chose floor } f\\}.\n",
        "$$\n",
        "\n",
        "\n",
        "$$\n",
        "\\mathbb{E}[S] = \\sum_{f=2}^6 \\mathbb{P}(\\text{someone chose } f).\n",
        "$$\n",
        "\n",
        "\n",
        "$$\n",
        "\\mathbb{P}(\\text{someone chose } f)\n",
        "= 1 - \\left(1 - \\tfrac{1}{5}\\right)^4\n",
        "= 1 - \\left(\\tfrac{4}{5}\\right)^4.\n",
        "$$\n",
        "\n",
        "$$\n",
        "\\mathbb{E}[S]\n",
        "= 5 \\left(1 - \\left(\\tfrac{4}{5}\\right)^4 \\right)\n",
        "= \\frac{369}{125}\n",
        "\\approx 2.952.\n",
        "$$\n",
        "\n"
      ]
    },
    {
      "cell_type": "markdown",
      "metadata": {
        "id": "vnBeLBSSpmsF"
      },
      "source": [
        "---\n",
        "\n",
        "(d) For your next simulation homework, you pair up with a student you have not met before. At some point, you get bored of the homework, and decide to count how many common friends you have at Cornell. Suppose the total number of students at Cornell is $22,000$, out of which you have $500$ friends, and your homework partner has $440$. Assuming that for both of you, your friends form independent and uniform random samplings of the total student population, what is the expected number of friends you both have in common?\n",
        "\n",
        "---"
      ]
    },
    {
      "cell_type": "markdown",
      "metadata": {
        "id": "spdv-KpipzKE"
      },
      "source": [
        "### Ans.\n",
        "  \n",
        "$$\n",
        "I_j =\n",
        "\\begin{cases}\n",
        "1 & \\text{if student $j$ is a friend of both}, \\\\\n",
        "0 & \\text{otherwise}.\n",
        "\\end{cases}\n",
        "$$\n",
        "\n",
        "$$\n",
        "|A \\cap B| = \\sum_{j=1}^N I_j.\n",
        "$$\n",
        "\n",
        "\n",
        "$$\n",
        "\\mathbb{E}[|A \\cap B|] = \\sum_{j=1}^N \\mathbb{E}[I_j].\n",
        "$$\n",
        "\n",
        "\n",
        "$$\n",
        "\\mathbb{E}[I_j] = \\mathbb{P}(j \\in A \\cap B)\n",
        "= \\mathbb{P}(j \\in A)\\,\\mathbb{P}(j \\in B).\n",
        "$$\n",
        "\n",
        "\n",
        "$$\n",
        "\\mathbb{P}(j \\in A) = \\frac{500}{22{,}000},\n",
        "\\qquad\n",
        "\\mathbb{P}(j \\in B) = \\frac{440}{22{,}000}.\n",
        "$$\n",
        "\n",
        "\n",
        "$$\n",
        "\\mathbb{P}(j \\in A \\cap B)\n",
        "= \\frac{500}{22{,}000}\\cdot \\frac{440}{22{,}000}.\n",
        "$$\n",
        "\n",
        "\n",
        "$$\n",
        "\\mathbb{E}[|A \\cap B|]\n",
        "= N \\cdot \\frac{500}{22{,}000}\\cdot \\frac{440}{22{,}000}.\n",
        "$$\n",
        "\n",
        "$$\n",
        "\\mathbb{E}[|A \\cap B|]\n",
        "= \\frac{500 \\cdot 440}{22{,}000}\n",
        "= 10.\n",
        "$$\n",
        "\n",
        "\n"
      ]
    },
    {
      "cell_type": "markdown",
      "metadata": {
        "id": "qmO0bQhef33x"
      },
      "source": [
        "___\n",
        "___\n",
        "\n",
        "## Question 2: Pooled Testing (30 pts) ##\n",
        "\n",
        "\n",
        "In 2020 Fall, Cornell adopted pooled testing to test a large population with a limited number of Covid tests. In pooled testing a sample is taken from each person and split into two subsamples. The first subsample from each person is pooled with those of $n-1$ other people into a single pooled sample of size $n$ people. (Cornell eventually used $n=5$.) If the pooled test comes back negative, then we declare all $n$ people in the pool to be\n",
        "negative. If the pooled test comes back positive, we then individually test the second subsample from every person in the pool. In this question we'll explore the effects of different pool sizes $n$.\n",
        "\n",
        "---\n",
        "\n",
        "**(a)** The *prevalence* $p$ at the time of testing is defined to be the true fraction of people with Covid in the population. Now let $N$ be the number of (true) Covid-positive people in a pool of size $n$. What would you use as a model for the distribution of $N$, if you knew the $n$ people in the pool $(i)$ had never met each other in the last week, and $(ii)$ all lived in the same house. In each case, what is the mean and variance of $N$?\n",
        "\n",
        "---"
      ]
    },
    {
      "cell_type": "markdown",
      "metadata": {
        "id": "F2kHkbTdrBIT"
      },
      "source": [
        "### Ans.\n",
        "\n",
        "**(i) Never met each other**  \n",
        "Model\n",
        "$$\n",
        "N \\sim \\mathrm{Binomial}(n,p)\n",
        "$$\n",
        "\n",
        "$$\n",
        "\\mathbb{E}[N]=np,\n",
        "\\qquad\n",
        "\\operatorname{Var}(N)=np(1-p).\n",
        "$$\n",
        "\n",
        "**(ii) Same household (positive dependence):**\n",
        "\n",
        "Assume each of the n Bernoulli trials has pairwise correlation $(\\rho \\ge 0)$ because if one housemate is positive, the others are more likely to be positive too. We can modify our model from Binomial to Correlated Binomial.\n",
        "\n",
        "$$\n",
        "\\mathbb{E}[N] = np,\n",
        "\\qquad\n",
        "\\operatorname{Var}(N) = np(1-p)\\,\\bigl(1 + (n-1)\\rho \\bigr).\n",
        "$$\n",
        "\n"
      ]
    },
    {
      "cell_type": "markdown",
      "metadata": {
        "id": "mIEZB79KrP0I"
      },
      "source": [
        "___\n",
        "\n",
        "**(b)** Suppose that the test has no *false positives* and no *false negatives*; it comes back positive if **anyone** in the pool is positive and comes back negative if all people in the pool are negative. Let $T$ be the number of tests you need to be *sure* of each persons status (i.e., if they are COVID positive or not). What is the distribution of $T$, and what is its mean and variance? Clearly state all assumptions you are making.\n",
        "\n",
        "---"
      ]
    },
    {
      "cell_type": "markdown",
      "metadata": {
        "id": "b5x-E30Ex9xK"
      },
      "source": [
        "### Ans.\n",
        "\n",
        "Let\n",
        "$$\n",
        "q \\;:=\\; \\mathbb{P}(\\text{pooled positive}) \\;=\\; 1-\\mathbb{P}(\\text{all negative}) \\;=\\; 1-(1-p)^n.\n",
        "$$\n",
        "\n",
        "\n",
        "Define\n",
        "$$A=\\mathbf{1}\\{\\text{pooled positive}\\}\\sim\\mathrm{Bernoulli}(q)$$.\n",
        "\n",
        "**Distribution of \\(T\\):**  \n",
        "\n",
        "$$\n",
        "T \\;=\\; 1 + nA.\n",
        "$$\n",
        "\n",
        "$$\n",
        "T=\n",
        "\\begin{cases}\n",
        "1, & \\text{with prob. } (1-p)^n,\\\\[4pt]\n",
        "1+n, & \\text{with prob. } 1-(1-p)^n.\n",
        "\\end{cases}\n",
        "$$\n",
        "\n",
        "**Expected value (work):**\n",
        "$$\n",
        "\\mathbb{E}[T]=\\mathbb{E}[\\,1+nA\\,]=1+n\\,\\mathbb{E}[A]=1+nq\n",
        "=1+n\\Bigl(1-(1-p)^n\\Bigr).\n",
        "$$\n",
        "\n",
        "**Variance (work):**\n",
        "Since \\(T=1+nA\\) and $\\operatorname{Var}(cX)=c^2\\operatorname{Var}(X)$,\n",
        "$$\n",
        "\\operatorname{Var}(T)=n^2\\,\\operatorname{Var}(A)\n",
        "=n^2\\,q(1-q)\n",
        "= n^2\\Bigl(1-(1-p)^n\\Bigr)(1-p)^n.\n",
        "$$\n",
        "\n"
      ]
    },
    {
      "cell_type": "markdown",
      "metadata": {
        "id": "lVudUJOOyV8l"
      },
      "source": [
        "___\n",
        "\n",
        "**(c)** What is the pool size $n$ that minimizes the average number of tests per person when the prevalence is $0.0001$? What about when prevalence is $0.01$? You should do this numerically using plots (i.e., without calculus), as this is helps explain your recommendation to decision-makers (note though that you may want to test different ranges of $n$ for each setting).\n",
        "\n",
        "---"
      ]
    },
    {
      "cell_type": "markdown",
      "metadata": {
        "id": "FlZqL3MPzO6a"
      },
      "source": [
        "### Ans.\n",
        "\n"
      ]
    },
    {
      "cell_type": "code",
      "execution_count": null,
      "metadata": {
        "id": "pko5OogAzfrn",
        "colab": {
          "base_uri": "https://localhost:8080/",
          "height": 1000
        },
        "outputId": "ab30c835-eba5-4404-ae44-0f34c02d4a0d"
      },
      "outputs": [
        {
          "output_type": "display_data",
          "data": {
            "text/plain": [
              "<Figure size 640x480 with 1 Axes>"
            ],
            "image/png": "[encoded data removed]"
          },
          "metadata": {}
        },
        {
          "output_type": "display_data",
          "data": {
            "text/plain": [
              "<Figure size 640x480 with 1 Axes>"
            ],
            "image/png": "[encoded data removed]"
          },
          "metadata": {}
        },
        {
          "output_type": "stream",
          "name": "stdout",
          "text": [
            "p = 0.0001: optimal n = 101,  expected tests/person = 0.019950656341507167\n",
            "p = 0.01: optimal n = 11,  expected tests/person = 0.19557083665037445\n"
          ]
        }
      ],
      "source": [
        "# E[T]/n = 1/n + 1 - (1 - p)**n\n",
        "def per_person_tests(n, p):\n",
        "    n = np.asarray(n, dtype=float)\n",
        "    return 1.0/n + 1.0 - (1.0 - p)**n\n",
        "\n",
        "def sweep_and_plot(p, n_max, title):\n",
        "    n_vals = np.arange(1, n_max + 1)\n",
        "    y = per_person_tests(n_vals, p)\n",
        "    k = int(np.argmin(y))\n",
        "    n_opt = int(n_vals[k])\n",
        "    y_opt = float(y[k])\n",
        "\n",
        "    plt.figure()\n",
        "    plt.plot(n_vals, y)\n",
        "    plt.scatter([n_opt], [y_opt], s=60)\n",
        "    plt.title(f\"{title}\\nOptimal n = {n_opt},  avg tests/person = {y_opt:.5f}\")\n",
        "    plt.xlabel(\"Pool size n\")\n",
        "    plt.ylabel(\"Expected tests per person\")\n",
        "    plt.grid(True)\n",
        "    plt.show()\n",
        "\n",
        "    return n_opt, y_opt\n",
        "\n",
        "\n",
        "p1 = 0.0001\n",
        "p2 = 0.01\n",
        "\n",
        "n_opt1, y_opt1 = sweep_and_plot(p1, n_max=500, title=\"Prevalence p = 0.0001\")\n",
        "n_opt2, y_opt2 = sweep_and_plot(p2, n_max=80,  title=\"Prevalence p = 0.01\")\n",
        "\n",
        "print(f\"p = {p1}: optimal n = {n_opt1},  expected tests/person = {y_opt1}\")\n",
        "print(f\"p = {p2}: optimal n = {n_opt2},  expected tests/person = {y_opt2}\")\n"
      ]
    },
    {
      "cell_type": "markdown",
      "metadata": {
        "id": "P_G3haZcpAfc"
      },
      "source": [
        "\n",
        "\n",
        "---\n",
        "\n",
        "*(d)* A more critical characteristic of pooled tests is the false negative rate, which is the probability that a test comes back negative when at least one person in the pool is Covid positive. False negatives are dangerous, because the person (or people) with Covid in the pool can infect others until Covid is otherwise detected or they become no longer infectious.\n",
        "\n",
        "You know that false negatives must be more likely when there is a low viral load in a sample. To understand how to model false negatives in PCR tests, you consult with your friend who is a biologist, who tells you that the viral load $V$ in a PCR sample is measured using something called the cycle threshold (CT) score of a PCR test, which is equivalent to $C = -\\log_2 V$. The viral load for a Covid-negative person is $V=0$. In a pooled sample of size $n$, each person contributes a fraction $1/n$ of the sample, and the resulting viral load has a total CT score of:\n",
        "$$-\\log_2 \\left(\\frac 1 n \\sum_{i=1}^n 2^{-C_i}\\right),$$\n",
        "where $C_1, C_2, \\ldots, C_n$ are the CT scores of each person in the pool. Finally, your friend recalls that probability $\\mathbb{P}[\\text{false negative test}|C]$ of a false negative in a single PCR test is well modeled either as\n",
        "$\\frac{1}{1 + \\exp(-10(C - 35))}$ or $\\frac{1}{1 + \\exp(10(C - 35))}$ (but he can not remember which one 🙁).\n",
        "\n",
        "Can you figure out what the correct model is?\n",
        "\n",
        "---\n",
        "\n"
      ]
    },
    {
      "cell_type": "markdown",
      "metadata": {
        "id": "b5GdqFCzsiTA"
      },
      "source": [
        "### Ans.\n",
        "\n",
        "\n",
        "$$\n",
        "\\mathbb{P}(\\text{false negative}\\mid C)\\in\n",
        "\\left\\{\n",
        "\\frac{1}{1+\\exp(-10(C-35))}, \\;\n",
        "\\frac{1}{1+\\exp(10(C-35))}\n",
        "\\right\\}.\n",
        "$$\n",
        "\n",
        "$$C=-\\log_2 V$$  \n",
        "High $C$ = low viral load ⇒ false negatives should be more likely.  \n",
        "So the probability must increase with $C$.\n",
        "\n",
        "**Check Extreme Values:**\n",
        "\n",
        "Low \\(C=20\\) (high viral load, want small FN rate):  \n",
        "  $$\n",
        "  \\frac{1}{1+\\exp(-10(20-35))} \\approx 0 \\quad (\\text{good})\n",
        "  $$\n",
        "  $$\n",
        "  \\frac{1}{1+\\exp(10(20-35))} \\approx 1 \\quad (\\text{bad})\n",
        "  $$\n",
        "\n",
        "High \\(C=40\\) (low viral load, want large FN rate):  \n",
        "  $$\n",
        "  \\frac{1}{1+\\exp(-10(40-35))} \\approx 1 \\quad (\\text{good})\n",
        "  $$\n",
        "  $$\n",
        "  \\frac{1}{1+\\exp(10(40-35))} \\approx 0 \\quad (\\text{bad})\n",
        "  $$\n",
        "\n",
        "$$\n",
        "{\\;\\mathbb{P}(\\text{false negative}\\mid C)=\\frac{1}{1+\\exp(-10(C-35))}\\;}\n",
        "$$\n"
      ]
    },
    {
      "cell_type": "markdown",
      "metadata": {
        "id": "-gl2YJrorGkf"
      },
      "source": [
        "\n",
        "\n",
        "---\n",
        "\n",
        "\n",
        "*(e)* You consult the epidemiology literature and find that the viral load for a Covid-positive person has been found from data to have a CT score $C$ that is well modeled via a *mixture of Gaussian* distribution as follows: with probability $0.40$, $C$ is ${N}(20, 3.5^2)$ (i.e., normally distributed with mean 20 and variance $3.5^2$); with probability $0.5$, $C$ is ${N}(30, 3^2)$, and otherwise,  $C$ is ${N}(34.78, 1.32^2)$.\n",
        "\n",
        "Use this data with the above model to estimate the probability of a false negative in a pooled test of size $n$ containing a single Covid-positive person as a function of $n$. You'll need to generate, say, $m$ replications of the pooled test at each value of $n$, where you should choose $m$ to ensure that your results are meaningful. Report your results as a graph with the false negative rate on the $y$-axis and the pool size $n$ ranging from 1 to 50 on the $x$-axis. Select your simulation runlength so that your estimates would be useful in practice (for example, estimates that are $\\pm$ 0.02 or so are sufficiently accurate).\n",
        "\n",
        "\n",
        "---\n"
      ]
    },
    {
      "cell_type": "markdown",
      "metadata": {
        "id": "7TgVoe_dseOb"
      },
      "source": [
        "### Ans.\n",
        "\n"
      ]
    },
    {
      "cell_type": "code",
      "execution_count": null,
      "metadata": {
        "id": "zQu1pSVIrFmk",
        "colab": {
          "base_uri": "https://localhost:8080/",
          "height": 597
        },
        "outputId": "69c74ab0-01d4-47a7-b500-26bb76345b88"
      },
      "outputs": [
        {
          "output_type": "display_data",
          "data": {
            "text/plain": [
              "<Figure size 640x480 with 1 Axes>"
            ],
            "image/png": "[encoded data removed]"
          },
          "metadata": {}
        },
        {
          "output_type": "stream",
          "name": "stdout",
          "text": [
            "n=1: FN rate ≈ 0.06645108693867584\n",
            "n=5: FN rate ≈ 0.1859400770751568\n",
            "n=10: FN rate ≈ 0.25131204074051905\n",
            "n=20: FN rate ≈ 0.3074329693344024\n",
            "n=30: FN rate ≈ 0.33903614098385504\n",
            "n=40: FN rate ≈ 0.35835897069928746\n",
            "n=50: FN rate ≈ 0.3952703784700996\n"
          ]
        }
      ],
      "source": [
        "n_min, n_max = 1, 50\n",
        "m = 5000\n",
        "\n",
        "weights = [0.40, 0.50, 0.10]\n",
        "means   = [20.0, 30.0, 34.78]\n",
        "stds    = [ 3.5,  3.0,  1.3]\n",
        "\n",
        "def sample_ct():\n",
        "    u = np.random.rand()\n",
        "    if u < weights[0]:\n",
        "        k = 0\n",
        "    elif u < weights[0] + weights[1]:\n",
        "        k = 1\n",
        "    else:\n",
        "        k = 2\n",
        "    return np.random.normal(means[k], stds[k])\n",
        "\n",
        "def fn_prob(C):\n",
        "    return 1.0 / (1.0 + np.exp(-10.0 * (C - 35.0)))\n",
        "\n",
        "ns = list(range(n_min, n_max + 1))\n",
        "fn_rates = []\n",
        "\n",
        "\n",
        "for n in ns:\n",
        "    total = 0.0\n",
        "    for _ in range(m):\n",
        "        C_single = sample_ct()\n",
        "        C_pooled = C_single + np.log2(n)   # pooled CT shifts by log2(n)\n",
        "        total += fn_prob(C_pooled)\n",
        "    fn_rates.append(total / m)\n",
        "\n",
        "\n",
        "plt.plot(ns, fn_rates, marker='o')\n",
        "plt.xlabel(\"Pool size n\")\n",
        "plt.ylabel(\"Estimated false negative rate\")\n",
        "plt.title(f\"False negative rate vs pool size (m = {m} replications)\")\n",
        "plt.grid(True)\n",
        "plt.show()\n",
        "\n",
        "\n",
        "for n_check in [1, 5, 10, 20, 30, 40, 50]:\n",
        "    print(f\"n={n_check}: FN rate ≈ {fn_rates[n_check-1]}\")\n"
      ]
    },
    {
      "cell_type": "markdown",
      "metadata": {
        "id": "l_IOsfDhf33y"
      },
      "source": [
        "## Question 3: Buffon and his magic needle (20 points)"
      ]
    },
    {
      "cell_type": "markdown",
      "metadata": {
        "id": "wyQBQHsERhuf"
      },
      "source": [
        "In the first class we saw Buffon's needle experiment in which we drop needles of length 1 on a floor of parallel lines that are equally spaced 1 unit apart. If we drop $n$ needles and $N_{cross}$ of them cross a line, then an estimate of $\\pi$ is $\\hat{\\pi}_n = 2n/N_{cross}$. We will now study how this works in practice (feel free to use the code provided in class)."
      ]
    },
    {
      "cell_type": "markdown",
      "metadata": {
        "id": "o5-ARlaCSEPy"
      },
      "source": [
        "\n",
        "---\n",
        "\n",
        "**(a)** For a range of values of $n$ between $10$ and $10,000$, perform $30$ replications of the Buffon needle experiment. For each value of $n$ you test, plot the average of the $30$ estimates $\\hat{\\pi}_n = 2n/N_{cross}$ and a 95\\% confidence interval for the expected value of $\\hat{\\pi}_n$. You should only be making one plot, with $n$ on the $x$-axis, and estimates and CIs on the $y$-axis.\n",
        "\n",
        "\n",
        "\n",
        "---\n",
        "\n"
      ]
    },
    {
      "cell_type": "markdown",
      "metadata": {
        "id": "JfPEcCaITWDS"
      },
      "source": [
        "### Ans."
      ]
    },
    {
      "cell_type": "code",
      "execution_count": null,
      "metadata": {
        "id": "5bKOtz2CSDjB",
        "colab": {
          "base_uri": "https://localhost:8080/",
          "height": 476
        },
        "outputId": "c247d41c-e091-45d8-be81-1dde80bf46c6"
      },
      "outputs": [
        {
          "output_type": "display_data",
          "data": {
            "text/plain": [
              "<Figure size 640x480 with 1 Axes>"
            ],
            "image/png": "[encoded data removed]"
          },
          "metadata": {}
        }
      ],
      "source": [
        "import numpy as np\n",
        "import matplotlib.pyplot as plt\n",
        "\n",
        "def buffon_pi(n):\n",
        "    d = np.random.rand(n) * 0.5\n",
        "    theta = np.random.rand(n) * (np.pi/2)\n",
        "    crosses = np.sum(d <= 0.5 * np.sin(theta))\n",
        "    if crosses == 0:\n",
        "        return np.nan\n",
        "    return 2*n / crosses\n",
        "\n",
        "n_values = np.unique(np.round(np.logspace(1, 4, 15)).astype(int))\n",
        "reps = 30\n",
        "\n",
        "means = []\n",
        "lowers = []\n",
        "uppers = []\n",
        "\n",
        "for n in n_values:\n",
        "    estimates = []\n",
        "    for r in range(reps):\n",
        "        estimates.append(buffon_pi(n))\n",
        "    estimates = np.array(estimates)\n",
        "    mean_est = np.mean(estimates)\n",
        "    se = np.std(estimates, ddof=1) / np.sqrt(reps)  # standard error\n",
        "    ci = 1.96 * se\n",
        "    means.append(mean_est)\n",
        "    lowers.append(mean_est - ci)\n",
        "    uppers.append(mean_est + ci)\n",
        "\n",
        "plt.errorbar(n_values, means, yerr=[np.array(means)-np.array(lowers),\n",
        "                                    np.array(uppers)-np.array(means)],\n",
        "             fmt='o-', capsize=4, label=\"Estimate ± 95% CI\")\n",
        "plt.xscale(\"log\")\n",
        "plt.xlabel(\"n (number of needles)\")\n",
        "plt.ylabel(\"Estimated π\")\n",
        "plt.title(\"Buffon's Needle Estimates (30 replications)\")\n",
        "plt.legend()\n",
        "plt.grid(True)\n",
        "plt.show()\n"
      ]
    },
    {
      "cell_type": "markdown",
      "metadata": {
        "id": "CxV2yEmlSbkC"
      },
      "source": [
        "\n",
        "---\n",
        "\n",
        "**(b)** You may notice from your plot in part (a) that the estimator $\\hat{\\pi}_n$ has some *bias*, i.e., $\\mathbb{E}[\\hat{\\pi}_n] \\neq \\pi$ (this may be more apparent for small values of $n$). Pick a small value (say, $n=100$), and do more replications (i.e., do multiple experiments, where in each experiment you throw $100$ needles), and determine if $\\hat{\\pi}_n$ is an overestimate or underestimate for $\\pi$.\n",
        "\n",
        "\n",
        "---\n"
      ]
    },
    {
      "cell_type": "markdown",
      "metadata": {
        "id": "uFSg1RRwTUfb"
      },
      "source": [
        "### Ans."
      ]
    },
    {
      "cell_type": "code",
      "execution_count": null,
      "metadata": {
        "id": "oWMHDHynTTuD",
        "colab": {
          "base_uri": "https://localhost:8080/"
        },
        "outputId": "4d18e923-396f-41fc-e880-36669b72bb86"
      },
      "outputs": [
        {
          "output_type": "stream",
          "name": "stdout",
          "text": [
            "Estimated π for n=100: 3.1599072337457113\n"
          ]
        }
      ],
      "source": [
        "n = 100\n",
        "reps = 1000000\n",
        "\n",
        "estimates = []\n",
        "for r in range(reps):\n",
        "    estimates.append(buffon_pi(n))\n",
        "estimates = np.array(estimates)\n",
        "mean_est = np.mean(estimates)\n",
        "\n",
        "print(f\"Estimated π for n={n}: {mean_est}\")"
      ]
    },
    {
      "cell_type": "markdown",
      "source": [
        "It is an overestimate for $\\pi$"
      ],
      "metadata": {
        "id": "_K4sLMBClTrr"
      }
    },
    {
      "cell_type": "markdown",
      "metadata": {
        "id": "HU-lR4mMTe7Z"
      },
      "source": [
        "**(c)** Can you mathematically justify your observation from part (b)?"
      ]
    },
    {
      "cell_type": "markdown",
      "metadata": {
        "id": "YgNPNKKkTl8p"
      },
      "source": [
        "### Ans.\n",
        "\n",
        "Probability that each needle crosses:\n",
        "$$\n",
        "p = \\frac{2}{\\pi}, \\qquad N \\sim \\text{Binomial}(n,p).\n",
        "$$\n",
        "\n",
        "Estimator:\n",
        "$$\n",
        "\\hat{\\pi}_n = \\frac{2n}{N}.\n",
        "$$\n",
        "\n",
        "The function $\\varphi(x)=1/x$ is convex for $x>0$, so by Jensen’s inequality\n",
        "$$\n",
        "\\mathbb{E}\\!\\left[\\frac{1}{N}\\right] \\;\\ge\\; \\frac{1}{\\mathbb{E}[N]}.\n",
        "$$\n",
        "\n",
        "\n",
        "$$\n",
        "\\mathbb{E}[\\hat{\\pi}_n]\n",
        "= 2n \\,\\mathbb{E}\\!\\left[\\tfrac{1}{N}\\right]\n",
        "\\;\\ge\\; 2n \\cdot \\frac{1}{np}\n",
        "= \\frac{2}{p}\n",
        "= \\pi.\n",
        "$$\n",
        "\n",
        "The estimator $\\hat{\\pi}_n$ is *biased upward*, so on average it overestimates $\\pi$.\n"
      ]
    },
    {
      "cell_type": "markdown",
      "metadata": {
        "id": "RIFfuf3eTn1j"
      },
      "source": [
        "**(d)** Note however that you can still use Buffon's experiment to get an estimate with $95$\\% confidence intervals for $\\mathbb{E}[\\frac{N_{\\text{cross}}}{n}]$. Using this, can you get a $95$\\% confidence interval for $\\pi$? (Note: this need not be symmetric about $\\pi$)."
      ]
    },
    {
      "cell_type": "markdown",
      "metadata": {
        "id": "nvNTxd05UY-T"
      },
      "source": [
        "### Ans.\n",
        "\n",
        "First get a 95% CI for the mean number of crossings, then invert to get a CI for $\\pi$.\n",
        "\n",
        "Let $N_{\\text{cross}}$ be the # of crossings in one experiment with $n$ needles. Run $R$ replications and record $N_1,\\dots,N_R$. Compute\n",
        "\n",
        "$$\n",
        "\\bar N=\\frac{1}{R}\\sum_{r=1}^R N_r,\n",
        "\\qquad\n",
        "s=\\sqrt{\\frac{1}{R-1}\\sum_{r=1}^R (N_r-\\bar N)^2}\n",
        "$$\n",
        "\n",
        "95% CI for $\\mathbb{E}[N_{\\text{cross}}]$:\n",
        "\n",
        "$$\n",
        "[L_\\mu, U_\\mu] \\;=\\; \\bar N \\pm 1.96\\,\\frac{s}{\\sqrt{R}}.\n",
        "$$\n",
        "\n",
        "Since $\\displaystyle \\pi=\\frac{2n}{\\,\\mathbb{E}[N_{\\text{cross}}]\\,}$ and $x\\mapsto \\frac{2n}{x}$ is decreasing, the 95% CI for $\\pi$ is\n",
        "\n",
        "$$\n",
        "\\;\\left[\\;\\frac{2n}{U_\\mu}\\;,\\;\\frac{2n}{L_\\mu}\\;\\right]\\;\n",
        "$$\n",
        "\n"
      ]
    },
    {
      "cell_type": "markdown",
      "metadata": {
        "id": "1YzsdFSPUatj"
      },
      "source": [
        "**(e) (Optional for everyone!)** Try to convince yourself (by linearity of expectation), that\n",
        "\n",
        "(i) If you randomly throw $n$ matches of length $\\ell$ and let $N^{\\ell}_{\\text{cross}}$ be a count of how many times these cross the lines, then $\\frac{\\mathbb{E}[N^{\\ell}_{\\text{cross}}]}{\\ell} = $ constant (in other words, the expected number of crossings is proportional to $\\ell$). Note: if $\\ell>1$, each match may cross multiple lines.\n",
        "\n",
        "(ii) The above result remains true if you throw *any* line segment (with any shape) of length $\\ell$. Using this, can you see an easy way to compute $\\mathbb{E}[N^{1}_{\\text{cross}}]$ (i.e., the probability of a match crossing a line in the original experiment)?"
      ]
    },
    {
      "cell_type": "markdown",
      "metadata": {
        "id": "4McZkHwYf33z"
      },
      "source": [
        "## Question 4: Overbooking (25 points)\n",
        "\n",
        "A website called Tixmaster is in charge of selling tickets for an upcoming Taylor Swift concert in Ithaca. The concert will take place in the State Theater, which has an official capacity of $1500$ seats. You believe however that Tixmaster has sold $1600$ tickets (representatives of the company, when contacted, denied this$\\ldots$).\n",
        "\n",
        "The show starts at 7pm, and if a ticket holder hasn't shown up by that time, then they are not allowed to enter anymore so as to not disturb the other attendees. From experience, you believe that there is a 95\\% chance that someone who has bought a ticket actually shows up by 7pm. and that people show up (or not) independently from one another."
      ]
    },
    {
      "cell_type": "markdown",
      "metadata": {
        "id": "Z3BowWcMz8Iw"
      },
      "source": [
        "\n",
        "\n",
        "---\n",
        "\n",
        "**(a)** You wait inside the State Theater and count the number of people entering. What is the probability that you will be able to prove that Tixmaster is overbooking? (You can do this with or without simulation)\n",
        "\n",
        "\n",
        "---"
      ]
    },
    {
      "cell_type": "markdown",
      "metadata": {
        "id": "DmaSH5iZ0zH-"
      },
      "source": [
        "### Ans.\n",
        "Let $X$ = the number of ticket holders who show up to the concert\n",
        "\n",
        "$$\n",
        "X \\sim \\text{Binomial}(n=1600, p=0.95)\n",
        "$$\n",
        "\n",
        "$$\n",
        "\\mu = np = 1600 \\times 0.95 = 1520\n",
        "$$\n",
        "\n",
        "$$\n",
        "\\sigma = \\sqrt{np(1-p)} = \\sqrt{1520 \\times 0.05}\n",
        "   = 8.717797887 \\approx 8.7178\n",
        "$$\n",
        "\n",
        "$$\n",
        "P(X \\geq 1501) = 1 - P(X \\leq 1500)\n",
        "$$\n",
        "\n",
        "$$\n",
        "z = \\frac{1500.5 - \\mu}{\\sigma}\n",
        "   = \\frac{1500.5 - 1520}{8.7178}\n",
        "   = -2.236802863 \\approx -2.2368\n",
        "$$\n",
        "\n",
        "$$\n",
        "P(Z \\leq -2.2368) \\approx 0.01265\n",
        "$$\n",
        "\n",
        "$$\n",
        "P(X \\geq 1501) \\approx 1 - 0.01265 \\approx 0.98735\n",
        "$$\n",
        "\n",
        "<br> With 1600 ticket sold with a 95% rate of showing up, there is about a 98.7% chance you will see more than 1500 entries. Therefore, you will be able to prove Tixmaster is overbooking by counting entries."
      ]
    },
    {
      "cell_type": "markdown",
      "metadata": {
        "id": "BS10dJ10f33z"
      },
      "source": [
        "**(b)** You manage to catch Tixmaster overbooking this time, and to prevent it in future, you decide to impose a fine to try and disincentivize overbooking. You know Tixmaster earns 100 in profit for every ticket sold (whether the holder shows up or not). You again have an agent counting how many people show up to the concert by $7$pm (you can not see how many are late or no-shows), and can charge Tixmaster a fine of 500 for each person exceeding the capacity.\n",
        "\n",
        "Use a simulation to estimate how many extra tickets (over 1600) Tixmaster will sell, if they are trying to maximize their expected profit (after paying any fines)."
      ]
    },
    {
      "cell_type": "markdown",
      "metadata": {
        "id": "mNoymDoVOMiB"
      },
      "source": [
        "### Ans."
      ]
    },
    {
      "cell_type": "code",
      "source": [
        "p = 0.95\n",
        "cap = 1500\n",
        "base_tickets = 1500\n",
        "extra_tickets = 200\n",
        "sims = 20000\n",
        "rng = np.random.default_rng(42)\n",
        "\n",
        "results = []\n",
        "\n",
        "for k in range(extra_tickets + 1):\n",
        "    n = base_tickets + k\n",
        "    shows = rng.binomial(n, p, size=sims)\n",
        "    profit = n * 100 - 500 * np.maximum(0, shows - cap)\n",
        "    expected_profit = profit.mean()\n",
        "    results.append((k, n, expected_profit))\n",
        "\n",
        "df = pd.DataFrame(results, columns=[\"extra_tickets\", \"total_sold\", \"expected_profit\"])\n",
        "\n",
        "best = df.loc[df[\"expected_profit\"].idxmax()]\n",
        "print(f\"Best number of extra tickets to sell: {int(best['extra_tickets'])}\")\n",
        "print(f\"Total tickets: {int(best['total_sold'])}\")\n",
        "print(f\"Estimated expected profit: ${best['expected_profit']:.2f}\")\n",
        "\n",
        "df.sort_values(\"expected_profit\", ascending=False).head(10)"
      ],
      "metadata": {
        "colab": {
          "base_uri": "https://localhost:8080/",
          "height": 417
        },
        "id": "ZNyakZupeK1B",
        "outputId": "3c41e991-4719-4b5f-8f93-195eca3a1020"
      },
      "execution_count": null,
      "outputs": [
        {
          "output_type": "stream",
          "name": "stdout",
          "text": [
            "Best number of extra tickets to sell: 71\n",
            "Total tickets: 1571\n",
            "Estimated expected profit: $156673.95\n"
          ]
        },
        {
          "output_type": "execute_result",
          "data": {
            "text/plain": [
              "    extra_tickets  total_sold  expected_profit\n",
              "71             71        1571       156673.950\n",
              "72             72        1572       156664.575\n",
              "73             73        1573       156656.050\n",
              "70             70        1570       156655.475\n",
              "69             69        1569       156628.025\n",
              "74             74        1574       156609.100\n",
              "68             68        1568       156580.375\n",
              "75             75        1575       156579.225\n",
              "67             67        1567       156529.750\n",
              "76             76        1576       156490.275"
            ],
            "text/html": [
              "\n",
              "  <div id=\"df-fd8a5225-69a0-4314-aa1c-e0424f501b1e\" class=\"colab-df-container\">\n",
              "    <div>\n",
              "<style scoped>\n",
              "    .dataframe tbody tr th:only-of-type {\n",
              "        vertical-align: middle;\n",
              "    }\n",
              "\n",
              "    .dataframe tbody tr th {\n",
              "        vertical-align: top;\n",
              "    }\n",
              "\n",
              "    .dataframe thead th {\n",
              "        text-align: right;\n",
              "    }\n",
              "</style>\n",
              "<table border=\"1\" class=\"dataframe\">\n",
              "  <thead>\n",
              "    <tr style=\"text-align: right;\">\n",
              "      <th></th>\n",
              "      <th>extra_tickets</th>\n",
              "      <th>total_sold</th>\n",
              "      <th>expected_profit</th>\n",
              "    </tr>\n",
              "  </thead>\n",
              "  <tbody>\n",
              "    <tr>\n",
              "      <th>71</th>\n",
              "      <td>71</td>\n",
              "      <td>1571</td>\n",
              "      <td>156673.950</td>\n",
              "    </tr>\n",
              "    <tr>\n",
              "      <th>72</th>\n",
              "      <td>72</td>\n",
              "      <td>1572</td>\n",
              "      <td>156664.575</td>\n",
              "    </tr>\n",
              "    <tr>\n",
              "      <th>73</th>\n",
              "      <td>73</td>\n",
              "      <td>1573</td>\n",
              "      <td>156656.050</td>\n",
              "    </tr>\n",
              "    <tr>\n",
              "      <th>70</th>\n",
              "      <td>70</td>\n",
              "      <td>1570</td>\n",
              "      <td>156655.475</td>\n",
              "    </tr>\n",
              "    <tr>\n",
              "      <th>69</th>\n",
              "      <td>69</td>\n",
              "      <td>1569</td>\n",
              "      <td>156628.025</td>\n",
              "    </tr>\n",
              "    <tr>\n",
              "      <th>74</th>\n",
              "      <td>74</td>\n",
              "      <td>1574</td>\n",
              "      <td>156609.100</td>\n",
              "    </tr>\n",
              "    <tr>\n",
              "      <th>68</th>\n",
              "      <td>68</td>\n",
              "      <td>1568</td>\n",
              "      <td>156580.375</td>\n",
              "    </tr>\n",
              "    <tr>\n",
              "      <th>75</th>\n",
              "      <td>75</td>\n",
              "      <td>1575</td>\n",
              "      <td>156579.225</td>\n",
              "    </tr>\n",
              "    <tr>\n",
              "      <th>67</th>\n",
              "      <td>67</td>\n",
              "      <td>1567</td>\n",
              "      <td>156529.750</td>\n",
              "    </tr>\n",
              "    <tr>\n",
              "      <th>76</th>\n",
              "      <td>76</td>\n",
              "      <td>1576</td>\n",
              "      <td>156490.275</td>\n",
              "    </tr>\n",
              "  </tbody>\n",
              "</table>\n",
              "</div>\n",
              "    <div class=\"colab-df-buttons\">\n",
              "\n",
              "  <div class=\"colab-df-container\">\n",
              "    <button class=\"colab-df-convert\" onclick=\"convertToInteractive('df-fd8a5225-69a0-4314-aa1c-e0424f501b1e')\"\n",
              "            title=\"Convert this dataframe to an interactive table.\"\n",
              "            style=\"display:none;\">\n",
              "\n",
              "  <svg xmlns=\"http://www.w3.org/2000/svg\" height=\"24px\" viewBox=\"0 -960 960 960\">\n",
              "    <path d=\"M120-120v-720h720v720H120Zm60-500h600v-160H180v160Zm220 220h160v-160H400v160Zm0 220h160v-160H400v160ZM180-400h160v-160H180v160Zm440 0h160v-160H620v160ZM180-180h160v-160H180v160Zm440 0h160v-160H620v160Z\"/>\n",
              "  </svg>\n",
              "    </button>\n",
              "\n",
              "  <style>\n",
              "    .colab-df-container {\n",
              "      display:flex;\n",
              "      gap: 12px;\n",
              "    }\n",
              "\n",
              "    .colab-df-convert {\n",
              "      background-color: #E8F0FE;\n",
              "      border: none;\n",
              "      border-radius: 50%;\n",
              "      cursor: pointer;\n",
              "      display: none;\n",
              "      fill: #1967D2;\n",
              "      height: 32px;\n",
              "      padding: 0 0 0 0;\n",
              "      width: 32px;\n",
              "    }\n",
              "\n",
              "    .colab-df-convert:hover {\n",
              "      background-color: #E2EBFA;\n",
              "      box-shadow: 0px 1px 2px rgba(60, 64, 67, 0.3), 0px 1px 3px 1px rgba(60, 64, 67, 0.15);\n",
              "      fill: #174EA6;\n",
              "    }\n",
              "\n",
              "    .colab-df-buttons div {\n",
              "      margin-bottom: 4px;\n",
              "    }\n",
              "\n",
              "    [theme=dark] .colab-df-convert {\n",
              "      background-color: #3B4455;\n",
              "      fill: #D2E3FC;\n",
              "    }\n",
              "\n",
              "    [theme=dark] .colab-df-convert:hover {\n",
              "      background-color: #434B5C;\n",
              "      box-shadow: 0px 1px 3px 1px rgba(0, 0, 0, 0.15);\n",
              "      filter: drop-shadow(0px 1px 2px rgba(0, 0, 0, 0.3));\n",
              "      fill: #FFFFFF;\n",
              "    }\n",
              "  </style>\n",
              "\n",
              "    <script>\n",
              "      const buttonEl =\n",
              "        document.querySelector('#df-fd8a5225-69a0-4314-aa1c-e0424f501b1e button.colab-df-convert');\n",
              "      buttonEl.style.display =\n",
              "        google.colab.kernel.accessAllowed ? 'block' : 'none';\n",
              "\n",
              "      async function convertToInteractive(key) {\n",
              "        const element = document.querySelector('#df-fd8a5225-69a0-4314-aa1c-e0424f501b1e');\n",
              "        const dataTable =\n",
              "          await google.colab.kernel.invokeFunction('convertToInteractive',\n",
              "                                                    [key], {});\n",
              "        if (!dataTable) return;\n",
              "\n",
              "        const docLinkHtml = 'Like what you see? Visit the ' +\n",
              "          '<a target=\"_blank\" href=https://colab.research.google.com/notebooks/data_table.ipynb>data table notebook</a>'\n",
              "          + ' to learn more about interactive tables.';\n",
              "        element.innerHTML = '';\n",
              "        dataTable['output_type'] = 'display_data';\n",
              "        await google.colab.output.renderOutput(dataTable, element);\n",
              "        const docLink = document.createElement('div');\n",
              "        docLink.innerHTML = docLinkHtml;\n",
              "        element.appendChild(docLink);\n",
              "      }\n",
              "    </script>\n",
              "  </div>\n",
              "\n",
              "\n",
              "    <div id=\"df-5567dc89-5866-4a08-8bc0-2534ea78ec8f\">\n",
              "      <button class=\"colab-df-quickchart\" onclick=\"quickchart('df-5567dc89-5866-4a08-8bc0-2534ea78ec8f')\"\n",
              "                title=\"Suggest charts\"\n",
              "                style=\"display:none;\">\n",
              "\n",
              "<svg xmlns=\"http://www.w3.org/2000/svg\" height=\"24px\"viewBox=\"0 0 24 24\"\n",
              "     width=\"24px\">\n",
              "    <g>\n",
              "        <path d=\"M19 3H5c-1.1 0-2 .9-2 2v14c0 1.1.9 2 2 2h14c1.1 0 2-.9 2-2V5c0-1.1-.9-2-2-2zM9 17H7v-7h2v7zm4 0h-2V7h2v10zm4 0h-2v-4h2v4z\"/>\n",
              "    </g>\n",
              "</svg>\n",
              "      </button>\n",
              "\n",
              "<style>\n",
              "  .colab-df-quickchart {\n",
              "      --bg-color: #E8F0FE;\n",
              "      --fill-color: #1967D2;\n",
              "      --hover-bg-color: #E2EBFA;\n",
              "      --hover-fill-color: #174EA6;\n",
              "      --disabled-fill-color: #AAA;\n",
              "      --disabled-bg-color: #DDD;\n",
              "  }\n",
              "\n",
              "  [theme=dark] .colab-df-quickchart {\n",
              "      --bg-color: #3B4455;\n",
              "      --fill-color: #D2E3FC;\n",
              "      --hover-bg-color: #434B5C;\n",
              "      --hover-fill-color: #FFFFFF;\n",
              "      --disabled-bg-color: #3B4455;\n",
              "      --disabled-fill-color: #666;\n",
              "  }\n",
              "\n",
              "  .colab-df-quickchart {\n",
              "    background-color: var(--bg-color);\n",
              "    border: none;\n",
              "    border-radius: 50%;\n",
              "    cursor: pointer;\n",
              "    display: none;\n",
              "    fill: var(--fill-color);\n",
              "    height: 32px;\n",
              "    padding: 0;\n",
              "    width: 32px;\n",
              "  }\n",
              "\n",
              "  .colab-df-quickchart:hover {\n",
              "    background-color: var(--hover-bg-color);\n",
              "    box-shadow: 0 1px 2px rgba(60, 64, 67, 0.3), 0 1px 3px 1px rgba(60, 64, 67, 0.15);\n",
              "    fill: var(--button-hover-fill-color);\n",
              "  }\n",
              "\n",
              "  .colab-df-quickchart-complete:disabled,\n",
              "  .colab-df-quickchart-complete:disabled:hover {\n",
              "    background-color: var(--disabled-bg-color);\n",
              "    fill: var(--disabled-fill-color);\n",
              "    box-shadow: none;\n",
              "  }\n",
              "\n",
              "  .colab-df-spinner {\n",
              "    border: 2px solid var(--fill-color);\n",
              "    border-color: transparent;\n",
              "    border-bottom-color: var(--fill-color);\n",
              "    animation:\n",
              "      spin 1s steps(1) infinite;\n",
              "  }\n",
              "\n",
              "  @keyframes spin {\n",
              "    0% {\n",
              "      border-color: transparent;\n",
              "      border-bottom-color: var(--fill-color);\n",
              "      border-left-color: var(--fill-color);\n",
              "    }\n",
              "    20% {\n",
              "      border-color: transparent;\n",
              "      border-left-color: var(--fill-color);\n",
              "      border-top-color: var(--fill-color);\n",
              "    }\n",
              "    30% {\n",
              "      border-color: transparent;\n",
              "      border-left-color: var(--fill-color);\n",
              "      border-top-color: var(--fill-color);\n",
              "      border-right-color: var(--fill-color);\n",
              "    }\n",
              "    40% {\n",
              "      border-color: transparent;\n",
              "      border-right-color: var(--fill-color);\n",
              "      border-top-color: var(--fill-color);\n",
              "    }\n",
              "    60% {\n",
              "      border-color: transparent;\n",
              "      border-right-color: var(--fill-color);\n",
              "    }\n",
              "    80% {\n",
              "      border-color: transparent;\n",
              "      border-right-color: var(--fill-color);\n",
              "      border-bottom-color: var(--fill-color);\n",
              "    }\n",
              "    90% {\n",
              "      border-color: transparent;\n",
              "      border-bottom-color: var(--fill-color);\n",
              "    }\n",
              "  }\n",
              "</style>\n",
              "\n",
              "      <script>\n",
              "        async function quickchart(key) {\n",
              "          const quickchartButtonEl =\n",
              "            document.querySelector('#' + key + ' button');\n",
              "          quickchartButtonEl.disabled = true;  // To prevent multiple clicks.\n",
              "          quickchartButtonEl.classList.add('colab-df-spinner');\n",
              "          try {\n",
              "            const charts = await google.colab.kernel.invokeFunction(\n",
              "                'suggestCharts', [key], {});\n",
              "          } catch (error) {\n",
              "            console.error('Error during call to suggestCharts:', error);\n",
              "          }\n",
              "          quickchartButtonEl.classList.remove('colab-df-spinner');\n",
              "          quickchartButtonEl.classList.add('colab-df-quickchart-complete');\n",
              "        }\n",
              "        (() => {\n",
              "          let quickchartButtonEl =\n",
              "            document.querySelector('#df-5567dc89-5866-4a08-8bc0-2534ea78ec8f button');\n",
              "          quickchartButtonEl.style.display =\n",
              "            google.colab.kernel.accessAllowed ? 'block' : 'none';\n",
              "        })();\n",
              "      </script>\n",
              "    </div>\n",
              "\n",
              "    </div>\n",
              "  </div>\n"
            ],
            "application/vnd.google.colaboratory.intrinsic+json": {
              "type": "dataframe",
              "summary": "{\n  \"name\": \"df\",\n  \"rows\": 10,\n  \"fields\": [\n    {\n      \"column\": \"extra_tickets\",\n      \"properties\": {\n        \"dtype\": \"number\",\n        \"std\": 3,\n        \"min\": 67,\n        \"max\": 76,\n        \"num_unique_values\": 10,\n        \"samples\": [\n          67,\n          72,\n          74\n        ],\n        \"semantic_type\": \"\",\n        \"description\": \"\"\n      }\n    },\n    {\n      \"column\": \"total_sold\",\n      \"properties\": {\n        \"dtype\": \"number\",\n        \"std\": 3,\n        \"min\": 1567,\n        \"max\": 1576,\n        \"num_unique_values\": 10,\n        \"samples\": [\n          1567,\n          1572,\n          1574\n        ],\n        \"semantic_type\": \"\",\n        \"description\": \"\"\n      }\n    },\n    {\n      \"column\": \"expected_profit\",\n      \"properties\": {\n        \"dtype\": \"number\",\n        \"std\": 61.52775096563533,\n        \"min\": 156490.275,\n        \"max\": 156673.95,\n        \"num_unique_values\": 10,\n        \"samples\": [\n          156529.75,\n          156664.575,\n          156609.1\n        ],\n        \"semantic_type\": \"\",\n        \"description\": \"\"\n      }\n    }\n  ]\n}"
            }
          },
          "metadata": {},
          "execution_count": 6
        }
      ]
    },
    {
      "cell_type": "markdown",
      "metadata": {
        "id": "8c1LKlyBf33z"
      },
      "source": [
        "\n",
        "\n",
        "---\n",
        "\n",
        "\n",
        "\n",
        "**(c) (For 5580/5581 students; optional for 4580)** Finally, you decide to stamp down on any overbooking by setting a large enough penalty so that Tixmaster does not find it profitable to sell even one extra ticket. Use simulation to find a fee $F$ charged per person over $1600$ admitted to the theater, such that it stops overbooking for each person who book after the number tickets sold exceed the capacity. (Ideally, try to propose as small an $F$ as possible, so that the city government feels it is practical to implement).\n",
        "\n",
        "*(Note: This sort of a problem where you want to optimize a parameter via simulation is difficult. We will see some ways to do this more efficiently later in class; however, for this problem, it is easy to do a search over potential values of $F$ to find the first time that overbooking by even $1$ ticket becomes unprofitable.)*\n",
        "\n",
        "\n",
        "---\n",
        "\n"
      ]
    },
    {
      "cell_type": "markdown",
      "metadata": {
        "id": "rN21bzkORLVg"
      },
      "source": [
        "### Ans."
      ]
    },
    {
      "cell_type": "code",
      "execution_count": null,
      "metadata": {
        "id": "2M5NJnUCf33z"
      },
      "outputs": [],
      "source": []
    }
  ],
  "metadata": {
    "colab": {
      "provenance": [],
      "include_colab_link": true
    },
    "kernelspec": {
      "display_name": "Python 3 (ipykernel)",
      "language": "python",
      "name": "python3"
    },
    "language_info": {
      "codemirror_mode": {
        "name": "ipython",
        "version": 3
      },
      "file_extension": ".py",
      "mimetype": "text/x-python",
      "name": "python",
      "nbconvert_exporter": "python",
      "pygments_lexer": "ipython3",
      "version": "3.11.3"
    }
  },
  "nbformat": 4,
  "nbformat_minor": 0
}